{
 "cells": [
  {
   "cell_type": "code",
   "execution_count": null,
   "metadata": {},
   "outputs": [],
   "source": [
    "import warnings\n",
    "warnings.filterwarnings('ignore')"
   ]
  },
  {
   "cell_type": "markdown",
   "metadata": {},
   "source": [
    "## Creating Training and Validation data"
   ]
  },
  {
   "cell_type": "code",
   "execution_count": null,
   "metadata": {},
   "outputs": [],
   "source": [
    "from tensorflow.keras.preprocessing.image import ImageDataGenerator\n",
    "\n",
    "# Define the paths for the data\n",
    "train_data_dir = 'train'\n",
    "img_size = 224\n",
    "\n",
    "# Data preprocessing and augmentation\n",
    "datagen = ImageDataGenerator(\n",
    "    rescale=1./255,         # Rescale pixel values to the range [0, 1]\n",
    "    shear_range=0.2,        # Apply shear transformations\n",
    "    zoom_range=0.2,         # Apply zoom transformations\n",
    "    horizontal_flip=True,   # Apply horizontal flips\n",
    "    validation_split=0.2    # Split 20% of the data for validation\n",
    ")\n",
    "\n",
    "# Training data\n",
    "train_generator = datagen.flow_from_directory(\n",
    "    train_data_dir,\n",
    "    target_size=(img_size, img_size),\n",
    "    batch_size=64,\n",
    "    class_mode='categorical',\n",
    "    subset='training'       # Use a subset of the data for training\n",
    ")\n",
    "\n",
    "# Validation data\n",
    "validation_generator = datagen.flow_from_directory(\n",
    "    train_data_dir,\n",
    "    target_size=(img_size, img_size),\n",
    "    batch_size=64,\n",
    "    class_mode='categorical',\n",
    "    subset='validation'     # Use a subset of the data for validation\n",
    ")\n"
   ]
  },
  {
   "cell_type": "markdown",
   "metadata": {},
   "source": [
    "## Model"
   ]
  },
  {
   "cell_type": "code",
   "execution_count": null,
   "metadata": {},
   "outputs": [],
   "source": [
    "from tensorflow.keras.models import Sequential\n",
    "from tensorflow.keras.layers import Conv2D, MaxPooling2D, GlobalAveragePooling2D, Dense\n",
    "from tensorflow.keras.optimizers import Adam\n",
    "\n",
    "# Create the CNN model\n",
    "def build_model(hp):\n",
    "    model = Sequential()\n",
    "\n",
    "    # 1. Convolutional Layer\n",
    "    model.add(Conv2D(hp.Int('conv1_units', min_value=16, max_value=64, step=16), (3, 3), input_shape=(img_size, img_size, 3), activation='relu'))\n",
    "    model.add(MaxPooling2D(pool_size=(2, 2)))\n",
    "\n",
    "    # 2. Convolutional Layer\n",
    "    model.add(Conv2D(hp.Int('conv2_units', min_value=32, max_value=128, step=32), (3, 3), activation='relu'))\n",
    "    model.add(MaxPooling2D(pool_size=(2, 2)))\n",
    "\n",
    "    # 3. Convolutional Layer\n",
    "    model.add(Conv2D(hp.Int('conv3_units', min_value=64, max_value=256, step=64), (3, 3), activation='relu'))\n",
    "    model.add(MaxPooling2D(pool_size=(2, 2)))\n",
    "\n",
    "    # Global Average Pooling Layer\n",
    "    model.add(GlobalAveragePooling2D())\n",
    "\n",
    "    # Fully Connected Layer (Dense Layer)\n",
    "    model.add(Dense(hp.Int('dense_units', min_value=128, max_value=512, step=128), activation='relu'))\n",
    "\n",
    "    # Output Layer\n",
    "    model.add(Dense(train_generator.num_classes, activation='softmax'))\n",
    "\n",
    "    # Compile the model\n",
    "    model.compile(optimizer=Adam(learning_rate=hp.Choice('learning_rate', values=[1e-2, 1e-3, 1e-4])), loss='categorical_crossentropy', metrics=['accuracy'])\n",
    "\n",
    "    return model"
   ]
  },
  {
   "cell_type": "markdown",
   "metadata": {},
   "source": [
    "## Keras Tuner"
   ]
  },
  {
   "cell_type": "code",
   "execution_count": null,
   "metadata": {},
   "outputs": [],
   "source": [
    "from kerastuner.tuners import RandomSearch\n",
    "\n",
    "# Define the RandomSearch tuner using Keras Tuner\n",
    "tuner = RandomSearch(build_model, objective='val_accuracy', max_trials=5,\n",
    "    directory='my_dir', project_name='hyperparameter_tuning_colored')\n",
    "\n",
    "# Start hyperparameter optimization with Keras Tuner\n",
    "tuner.search(train_generator, epochs=10, validation_data=validation_generator)\n",
    "\n",
    "# Display the best hyperparameters\n",
    "best_hyperparameters = tuner.oracle.get_best_trials(num_trials=1)[0].hyperparameters.values\n",
    "print(\"Best Hyperparameters:\", best_hyperparameters)"
   ]
  }
 ],
 "metadata": {
  "kernelspec": {
   "display_name": "Python 3",
   "language": "python",
   "name": "python3"
  },
  "language_info": {
   "codemirror_mode": {
    "name": "ipython",
    "version": 3
   },
   "file_extension": ".py",
   "mimetype": "text/x-python",
   "name": "python",
   "nbconvert_exporter": "python",
   "pygments_lexer": "ipython3",
   "version": "3.11.6"
  }
 },
 "nbformat": 4,
 "nbformat_minor": 2
}
