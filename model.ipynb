{
 "cells": [
  {
   "cell_type": "code",
   "execution_count": null,
   "metadata": {},
   "outputs": [],
   "source": [
    "import warnings\n",
    "warnings.filterwarnings('ignore')"
   ]
  },
  {
   "cell_type": "markdown",
   "metadata": {},
   "source": [
    "## Creating Training and Validation data"
   ]
  },
  {
   "cell_type": "code",
   "execution_count": null,
   "metadata": {},
   "outputs": [],
   "source": [
    "from tensorflow.keras.preprocessing.image import ImageDataGenerator\n",
    "\n",
    "# Define the paths for the data\n",
    "train_data_dir = 'train'\n",
    "img_size = 224\n",
    "\n",
    "# Data preprocessing and augmentation\n",
    "datagen = ImageDataGenerator(\n",
    "    rescale=1./255,         # Rescale pixel values to the range [0, 1]\n",
    "    shear_range=0.2,        # Apply shear transformations\n",
    "    zoom_range=0.2,         # Apply zoom transformations\n",
    "    horizontal_flip=True,   # Apply horizontal flips\n",
    "    validation_split=0.2    # Split 20% of the data for validation\n",
    ")\n",
    "\n",
    "# Training data\n",
    "train_generator = datagen.flow_from_directory(\n",
    "    train_data_dir,\n",
    "    target_size=(img_size, img_size),\n",
    "    batch_size=64,\n",
    "    class_mode='categorical',\n",
    "    subset='training'       # Use a subset of the data for training\n",
    ")\n",
    "\n",
    "# Validation data\n",
    "validation_generator = datagen.flow_from_directory(\n",
    "    train_data_dir,\n",
    "    target_size=(img_size, img_size),\n",
    "    batch_size=64,\n",
    "    class_mode='categorical',\n",
    "    subset='validation'     # Use a subset of the data for validation\n",
    ")\n"
   ]
  },
  {
   "cell_type": "markdown",
   "metadata": {},
   "source": [
    "## Model"
   ]
  },
  {
   "cell_type": "code",
   "execution_count": null,
   "metadata": {},
   "outputs": [],
   "source": [
    "from tensorflow.keras.models import Sequential\n",
    "from tensorflow.keras.layers import Conv2D, MaxPooling2D, GlobalAveragePooling2D, Dense\n",
    "from tensorflow.keras.optimizers import Adam\n",
    "\n",
    "# Create the CNN model\n",
    "model = Sequential()\n",
    "\n",
    "# 1. Convolutional Layer\n",
    "model.add(Conv2D(48, (3, 3), input_shape=(img_size, img_size, 3), activation='relu'))\n",
    "model.add(MaxPooling2D(pool_size=(2, 2)))\n",
    "\n",
    "# 2. Convolutional Layer\n",
    "model.add(Conv2D(96, (3, 3), activation='relu'))\n",
    "model.add(MaxPooling2D(pool_size=(2, 2)))\n",
    "\n",
    "# 3. Convolutional Layer\n",
    "model.add(Conv2D(128, (3, 3), activation='relu'))\n",
    "model.add(MaxPooling2D(pool_size=(2, 2)))\n",
    "\n",
    "# Global Average Pooling Layer\n",
    "model.add(GlobalAveragePooling2D())\n",
    "\n",
    "# Fully connected Layer (Dense Layer)\n",
    "model.add(Dense(384, activation='relu'))\n",
    "\n",
    "# Output Layer\n",
    "model.add(Dense(len(train_generator.class_indices), activation='softmax'))\n",
    "\n",
    "optimizer = Adam(learning_rate=0.001)\n",
    "\n",
    "# Compile the model\n",
    "model.compile(optimizer=optimizer, loss='categorical_crossentropy', metrics=['accuracy'])\n",
    "\n",
    "# Training the model\n",
    "model.fit(\n",
    "    train_generator,\n",
    "    steps_per_epoch=train_generator.samples // train_generator.batch_size,\n",
    "    epochs=40,\n",
    "    validation_data=validation_generator,\n",
    "    validation_steps=validation_generator.samples // validation_generator.batch_size\n",
    ")"
   ]
  }
 ],
 "metadata": {
  "kernelspec": {
   "display_name": "Python 3",
   "language": "python",
   "name": "python3"
  },
  "language_info": {
   "codemirror_mode": {
    "name": "ipython",
    "version": 3
   },
   "file_extension": ".py",
   "mimetype": "text/x-python",
   "name": "python",
   "nbconvert_exporter": "python",
   "pygments_lexer": "ipython3",
   "version": "3.11.6"
  }
 },
 "nbformat": 4,
 "nbformat_minor": 2
}
